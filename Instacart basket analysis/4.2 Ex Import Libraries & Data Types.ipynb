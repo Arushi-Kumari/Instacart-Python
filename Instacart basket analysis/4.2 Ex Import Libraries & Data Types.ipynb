{
 "cells": [
  {
   "cell_type": "markdown",
   "id": "35173cc7",
   "metadata": {},
   "source": [
    "## Import Libraries"
   ]
  },
  {
   "cell_type": "code",
   "execution_count": 1,
   "id": "1473dbfc",
   "metadata": {},
   "outputs": [],
   "source": [
    "import pandas as pd\n",
    "import numpy as np\n",
    "import os"
   ]
  },
  {
   "cell_type": "markdown",
   "id": "52ddddc2",
   "metadata": {},
   "source": [
    "## Data Types"
   ]
  },
  {
   "cell_type": "markdown",
   "id": "5d8163f5",
   "metadata": {},
   "source": [
    "#### Step 7 - Code 3 different ways of reaching a result of 100 by adding or subtracting numeric variables."
   ]
  },
  {
   "cell_type": "code",
   "execution_count": 2,
   "id": "671fc53c",
   "metadata": {},
   "outputs": [
    {
     "name": "stdout",
     "output_type": "stream",
     "text": [
      "100\n"
     ]
    }
   ],
   "source": [
    "\n",
    "x=110\n",
    "y=10\n",
    "z=x-y\n",
    "\n",
    "print(z)"
   ]
  },
  {
   "cell_type": "code",
   "execution_count": 4,
   "id": "5b553850",
   "metadata": {},
   "outputs": [
    {
     "name": "stdout",
     "output_type": "stream",
     "text": [
      "100\n"
     ]
    }
   ],
   "source": [
    "x=90\n",
    "y=10\n",
    "z=x+y\n",
    "\n",
    "print(z)"
   ]
  },
  {
   "cell_type": "code",
   "execution_count": 6,
   "id": "24d61e3b",
   "metadata": {},
   "outputs": [
    {
     "name": "stdout",
     "output_type": "stream",
     "text": [
      "100\n"
     ]
    }
   ],
   "source": [
    "x=60\n",
    "y=40\n",
    "z=x+y\n",
    "\n",
    "print(z)"
   ]
  },
  {
   "cell_type": "markdown",
   "id": "e57e40d3",
   "metadata": {},
   "source": [
    "#### Step 8 - Code 2 floating-point variables and divide them by each other."
   ]
  },
  {
   "cell_type": "code",
   "execution_count": 7,
   "id": "50e197cf",
   "metadata": {},
   "outputs": [
    {
     "name": "stdout",
     "output_type": "stream",
     "text": [
      "5.76\n"
     ]
    }
   ],
   "source": [
    "x=2.88\n",
    "y=0.50\n",
    "z=x/y\n",
    "\n",
    "print(z)"
   ]
  },
  {
   "cell_type": "code",
   "execution_count": 8,
   "id": "9bd51bcf",
   "metadata": {},
   "outputs": [
    {
     "name": "stdout",
     "output_type": "stream",
     "text": [
      "6.126829268292683\n"
     ]
    }
   ],
   "source": [
    "x=125.6\n",
    "y=20.50\n",
    "z=x/y\n",
    "\n",
    "print(z)"
   ]
  },
  {
   "cell_type": "markdown",
   "id": "5f5737bc",
   "metadata": {},
   "source": [
    "#### Step 9 - Construct a short word made of separate strings"
   ]
  },
  {
   "cell_type": "code",
   "execution_count": 10,
   "id": "6bf87eda",
   "metadata": {},
   "outputs": [
    {
     "name": "stdout",
     "output_type": "stream",
     "text": [
      "topdog\n"
     ]
    }
   ],
   "source": [
    "x='top'\n",
    "y='dog'\n",
    "z=x+y\n",
    "\n",
    "print(z)"
   ]
  },
  {
   "cell_type": "markdown",
   "id": "c58e5a8b",
   "metadata": {},
   "source": [
    "#### Step 10 - Construct 2 short sentences made of separate strings."
   ]
  },
  {
   "cell_type": "code",
   "execution_count": 11,
   "id": "de56a26e",
   "metadata": {},
   "outputs": [
    {
     "name": "stdout",
     "output_type": "stream",
     "text": [
      "I am learning Python. Python is used for data analysis.\n"
     ]
    }
   ],
   "source": [
    "x = 'I am learning Python. '\n",
    "y = 'Python is used for data analysis.'\n",
    "z=x+y\n",
    "\n",
    "print(z)"
   ]
  },
  {
   "cell_type": "markdown",
   "id": "e9fbbe06",
   "metadata": {},
   "source": [
    "#### - BONUS"
   ]
  },
  {
   "cell_type": "code",
   "execution_count": 12,
   "id": "2784b181",
   "metadata": {},
   "outputs": [
    {
     "name": "stdout",
     "output_type": "stream",
     "text": [
      "jazzjazzjazzjazzjazzjazzjazzjazzjazzjazzjazzjazzjazzjazzjazzjazzjazzjazzjazzjazzjazzjazzjazzjazzjazzjazzjazzjazzjazzjazzjazzjazzjazzjazzjazzjazzjazzjazzjazzjazzjazzjazzjazzjazzjazzjazzjazzjazzjazzjazzjazzjazzjazzjazzjazzjazzjazzjazzjazzjazzjazzjazzjazzjazzjazzjazzjazzjazzjazzjazzjazzjazzjazzjazzjazzjazzjazzjazzjazzjazzjazzjazzjazzjazzjazzjazzjazzjazzjazzjazzjazzjazzjazzjazzjazzjazzjazzjazzjazzjazz\n"
     ]
    }
   ],
   "source": [
    "x=100\n",
    "y='jazz'\n",
    "z=x*y\n",
    "\n",
    "print(z)"
   ]
  }
 ],
 "metadata": {
  "kernelspec": {
   "display_name": "Python 3 (ipykernel)",
   "language": "python",
   "name": "python3"
  },
  "language_info": {
   "codemirror_mode": {
    "name": "ipython",
    "version": 3
   },
   "file_extension": ".py",
   "mimetype": "text/x-python",
   "name": "python",
   "nbconvert_exporter": "python",
   "pygments_lexer": "ipython3",
   "version": "3.11.5"
  }
 },
 "nbformat": 4,
 "nbformat_minor": 5
}
